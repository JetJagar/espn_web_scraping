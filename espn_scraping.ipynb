{
 "cells": [
  {
   "cell_type": "code",
   "execution_count": 2,
   "metadata": {},
   "outputs": [],
   "source": [
    "# importing dependencies \n",
    "from selenium import webdriver \n",
    "from selenium.webdriver.chrome.service import Service\n",
    "from webdriver_manager.chrome import ChromeDriverManager\n",
    "import pandas as pd\n",
    "import time\n"
   ]
  },
  {
   "cell_type": "code",
   "execution_count": 8,
   "metadata": {},
   "outputs": [
    {
     "name": "stderr",
     "output_type": "stream",
     "text": [
      "C:\\Users\\Carl\\AppData\\Local\\Temp\\ipykernel_24556\\4120327349.py:24: FutureWarning: Passing literal html to 'read_html' is deprecated and will be removed in a future version. To read from a literal string, wrap it in a 'StringIO' object.\n",
      "  dfs = pd.read_html(html)\n"
     ]
    },
    {
     "name": "stdout",
     "output_type": "stream",
     "text": [
      "table 0:\n",
      "         Ohio State Buckeyes\n",
      "0           Indiana Hoosiers\n",
      "1            Texas Longhorns\n",
      "2  Northern Illinois Huskies\n",
      "3   Minnesota Golden Gophers\n",
      "4       Tennessee Volunteers\n",
      "table 1:\n",
      "  Unnamed: 0_level_0 Total        Passing        Rushing        Points      \n",
      "                  GP   YDS  YDS/G     YDS  YDS/G     YDS  YDS/G    PTS PTS/G\n",
      "0                 16  4074  254.6    2672  167.0    1402   87.6    206  12.9\n",
      "1                 13  3332  256.3    2289  176.1    1043   80.2    203  15.6\n",
      "2                 16  4539  283.7    2781  173.8    1758  109.9    245  15.3\n",
      "3                 13  3700  284.6    2242  172.5    1458  112.2    241  18.5\n",
      "4                 13  3714  285.7    2289  176.1    1425  109.6    220  16.9\n"
     ]
    }
   ],
   "source": [
    "# setting up the Selenium WebDriver\n",
    "\n",
    "# autimatically downloads and installs the latest chromedriver\n",
    "service = Service(ChromeDriverManager().install()) \n",
    "\n",
    "# configures chrome options\n",
    "options = webdriver.ChromeOptions()\n",
    "options.add_argument(\"--headless\")\n",
    "\n",
    "# initilialize the chrome webdriver witht the specified service and options\n",
    "driver = webdriver.Chrome(service=service, options=options)\n",
    "\n",
    "# url of espn stats page to scrape\n",
    "url = \"https://www.espn.com/college-football/stats/team/_/view/defense\"\n",
    "driver.get(url)\n",
    "\n",
    "# telling scraper to wait 5 seconds to load table\n",
    "time.sleep(5)\n",
    "\n",
    "# get the page source (HTML) after JavaScript execution\n",
    "html = driver.page_source\n",
    "\n",
    "# use pandas to extract all tables from the html \n",
    "dfs = pd.read_html(html)\n",
    "\n",
    "# close the webdriver (IMPORTANT!!!)\n",
    "driver.quit()\n",
    "\n",
    "# print all extracted tables\n",
    "for i, df in enumerate(dfs):\n",
    "    print(f\"table {i}:\") # print table index\n",
    "    print(df.head()) # printing the first few rows of each table\n",
    "\n",
    "# select the relevant table for the extracted data\n",
    "df = dfs[0]"
   ]
  },
  {
   "cell_type": "code",
   "execution_count": 10,
   "metadata": {},
   "outputs": [],
   "source": [
    "schools_df = dfs[0]\n",
    "stats_df = dfs[1]"
   ]
  },
  {
   "cell_type": "code",
   "execution_count": null,
   "metadata": {},
   "outputs": [
    {
     "data": {
      "text/plain": [
       "'Ohio State Buckeyes'"
      ]
     },
     "execution_count": 11,
     "metadata": {},
     "output_type": "execute_result"
    }
   ],
   "source": [
    "column_name = schools_df.columns[0]\n"
   ]
  },
  {
   "cell_type": "code",
   "execution_count": 13,
   "metadata": {},
   "outputs": [
    {
     "data": {
      "text/html": [
       "<div>\n",
       "<style scoped>\n",
       "    .dataframe tbody tr th:only-of-type {\n",
       "        vertical-align: middle;\n",
       "    }\n",
       "\n",
       "    .dataframe tbody tr th {\n",
       "        vertical-align: top;\n",
       "    }\n",
       "\n",
       "    .dataframe thead th {\n",
       "        text-align: right;\n",
       "    }\n",
       "</style>\n",
       "<table border=\"1\" class=\"dataframe\">\n",
       "  <thead>\n",
       "    <tr style=\"text-align: right;\">\n",
       "      <th></th>\n",
       "      <th>School</th>\n",
       "    </tr>\n",
       "  </thead>\n",
       "  <tbody>\n",
       "    <tr>\n",
       "      <th>0</th>\n",
       "      <td>Ohio State Buckeyes</td>\n",
       "    </tr>\n",
       "    <tr>\n",
       "      <th>1</th>\n",
       "      <td>Ohio State Buckeyes</td>\n",
       "    </tr>\n",
       "    <tr>\n",
       "      <th>2</th>\n",
       "      <td>Indiana Hoosiers</td>\n",
       "    </tr>\n",
       "    <tr>\n",
       "      <th>3</th>\n",
       "      <td>Texas Longhorns</td>\n",
       "    </tr>\n",
       "    <tr>\n",
       "      <th>4</th>\n",
       "      <td>Northern Illinois Huskies</td>\n",
       "    </tr>\n",
       "  </tbody>\n",
       "</table>\n",
       "</div>"
      ],
      "text/plain": [
       "                      School\n",
       "0        Ohio State Buckeyes\n",
       "1        Ohio State Buckeyes\n",
       "2           Indiana Hoosiers\n",
       "3            Texas Longhorns\n",
       "4  Northern Illinois Huskies"
      ]
     },
     "execution_count": 13,
     "metadata": {},
     "output_type": "execute_result"
    }
   ],
   "source": [
    "# inserting a blank row at the top and shift everything down\n",
    "schools_df = schools_df.shift(1)\n",
    "\n",
    "# shifting the frist column name to row 0\n",
    "schools_df.iloc[0, 0] = column_name\n",
    "\n",
    "# naming the new column \"School\"\n",
    "schools_df.columns = ['School']\n",
    "\n",
    "# reset index \n",
    "schools_df.reset_index(drop=True, inplace=True)\n",
    "\n",
    "# showing the new df\n",
    "schools_df.head()"
   ]
  },
  {
   "cell_type": "code",
   "execution_count": 14,
   "metadata": {},
   "outputs": [
    {
     "name": "stdout",
     "output_type": "stream",
     "text": [
      "Now you fucked up\n"
     ]
    },
    {
     "data": {
      "text/html": [
       "<div>\n",
       "<style scoped>\n",
       "    .dataframe tbody tr th:only-of-type {\n",
       "        vertical-align: middle;\n",
       "    }\n",
       "\n",
       "    .dataframe tbody tr th {\n",
       "        vertical-align: top;\n",
       "    }\n",
       "\n",
       "    .dataframe thead tr th {\n",
       "        text-align: left;\n",
       "    }\n",
       "</style>\n",
       "<table border=\"1\" class=\"dataframe\">\n",
       "  <thead>\n",
       "    <tr>\n",
       "      <th></th>\n",
       "      <th>Unnamed: 0_level_0</th>\n",
       "      <th colspan=\"2\" halign=\"left\">Total</th>\n",
       "      <th colspan=\"2\" halign=\"left\">Passing</th>\n",
       "      <th colspan=\"2\" halign=\"left\">Rushing</th>\n",
       "      <th colspan=\"2\" halign=\"left\">Points</th>\n",
       "    </tr>\n",
       "    <tr>\n",
       "      <th></th>\n",
       "      <th>GP</th>\n",
       "      <th>YDS</th>\n",
       "      <th>YDS/G</th>\n",
       "      <th>YDS</th>\n",
       "      <th>YDS/G</th>\n",
       "      <th>YDS</th>\n",
       "      <th>YDS/G</th>\n",
       "      <th>PTS</th>\n",
       "      <th>PTS/G</th>\n",
       "    </tr>\n",
       "  </thead>\n",
       "  <tbody>\n",
       "    <tr>\n",
       "      <th>0</th>\n",
       "      <td>16</td>\n",
       "      <td>4074</td>\n",
       "      <td>254.6</td>\n",
       "      <td>2672</td>\n",
       "      <td>167.0</td>\n",
       "      <td>1402</td>\n",
       "      <td>87.6</td>\n",
       "      <td>206</td>\n",
       "      <td>12.9</td>\n",
       "    </tr>\n",
       "    <tr>\n",
       "      <th>1</th>\n",
       "      <td>13</td>\n",
       "      <td>3332</td>\n",
       "      <td>256.3</td>\n",
       "      <td>2289</td>\n",
       "      <td>176.1</td>\n",
       "      <td>1043</td>\n",
       "      <td>80.2</td>\n",
       "      <td>203</td>\n",
       "      <td>15.6</td>\n",
       "    </tr>\n",
       "    <tr>\n",
       "      <th>2</th>\n",
       "      <td>16</td>\n",
       "      <td>4539</td>\n",
       "      <td>283.7</td>\n",
       "      <td>2781</td>\n",
       "      <td>173.8</td>\n",
       "      <td>1758</td>\n",
       "      <td>109.9</td>\n",
       "      <td>245</td>\n",
       "      <td>15.3</td>\n",
       "    </tr>\n",
       "    <tr>\n",
       "      <th>3</th>\n",
       "      <td>13</td>\n",
       "      <td>3700</td>\n",
       "      <td>284.6</td>\n",
       "      <td>2242</td>\n",
       "      <td>172.5</td>\n",
       "      <td>1458</td>\n",
       "      <td>112.2</td>\n",
       "      <td>241</td>\n",
       "      <td>18.5</td>\n",
       "    </tr>\n",
       "    <tr>\n",
       "      <th>4</th>\n",
       "      <td>13</td>\n",
       "      <td>3714</td>\n",
       "      <td>285.7</td>\n",
       "      <td>2289</td>\n",
       "      <td>176.1</td>\n",
       "      <td>1425</td>\n",
       "      <td>109.6</td>\n",
       "      <td>220</td>\n",
       "      <td>16.9</td>\n",
       "    </tr>\n",
       "  </tbody>\n",
       "</table>\n",
       "</div>"
      ],
      "text/plain": [
       "  Unnamed: 0_level_0 Total        Passing        Rushing        Points      \n",
       "                  GP   YDS  YDS/G     YDS  YDS/G     YDS  YDS/G    PTS PTS/G\n",
       "0                 16  4074  254.6    2672  167.0    1402   87.6    206  12.9\n",
       "1                 13  3332  256.3    2289  176.1    1043   80.2    203  15.6\n",
       "2                 16  4539  283.7    2781  173.8    1758  109.9    245  15.3\n",
       "3                 13  3700  284.6    2242  172.5    1458  112.2    241  18.5\n",
       "4                 13  3714  285.7    2289  176.1    1425  109.6    220  16.9"
      ]
     },
     "execution_count": 14,
     "metadata": {},
     "output_type": "execute_result"
    }
   ],
   "source": [
    "# combining the two tables together\n",
    "schools_df = dfs[0]\n",
    "stats_df = dfs[1]\n",
    "\n",
    "# ensuring they have the same number of rows\n",
    "if len(stats_df) == len(schools_df):\n",
    "    # inserting the school column into the stats\n",
    "    stats_df['School'] = schools_df['School']\n",
    "else:\n",
    "    print('Now you fucked up')\n",
    "\n",
    "# calling merged df \n",
    "stats_df.head()"
   ]
  }
 ],
 "metadata": {
  "kernelspec": {
   "display_name": "base",
   "language": "python",
   "name": "python3"
  },
  "language_info": {
   "codemirror_mode": {
    "name": "ipython",
    "version": 3
   },
   "file_extension": ".py",
   "mimetype": "text/x-python",
   "name": "python",
   "nbconvert_exporter": "python",
   "pygments_lexer": "ipython3",
   "version": "3.12.3"
  }
 },
 "nbformat": 4,
 "nbformat_minor": 2
}
